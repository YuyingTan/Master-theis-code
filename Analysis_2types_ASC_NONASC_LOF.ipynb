{
 "cells": [
  {
   "cell_type": "markdown",
   "metadata": {},
   "source": [
    "# Analysis of Body Cues for ASC Children in Mixed Reality Full-Body Interaction System\n"
   ]
  },
  {
   "cell_type": "markdown",
   "metadata": {},
   "source": [
    "## Data import "
   ]
  },
  {
   "cell_type": "code",
   "execution_count": 1,
   "metadata": {},
   "outputs": [],
   "source": [
    "import itertools\n",
    "import matplotlib as plt\n",
    "from matplotlib.ticker import NullFormatter\n",
    "import matplotlib.ticker as ticker\n",
    "import pandas as pd \n",
    "import numpy as np\n",
    "import re \n",
    "import csv\n",
    "from sklearn import preprocessing\n",
    "from sklearn.metrics import plot_confusion_matrix"
   ]
  },
  {
   "cell_type": "code",
   "execution_count": 2,
   "metadata": {},
   "outputs": [
    {
     "name": "stdout",
     "output_type": "stream",
     "text": [
      "ASC_NONASC_LOF_FORPYTHON HEADER\n",
      "0 Type\n",
      "1 p1_knee_hip\n",
      "2 p1_nose_hip\n",
      "3 p1_r_hand_l_hand\n",
      "4 p1_nose_hand\n",
      "5 p1_nose_elbow\n",
      "6 p1_neck_hand\n",
      "7 p1_foot_nose\n",
      "8 max_hand_x\n",
      "9 right_f1_arccos_x\n",
      "10 right_f2_arccos_x\n",
      "11 right_f3_arccos_x\n",
      "12 left_f1_arccos_x\n",
      "13 left_f2_arccos_x\n",
      "14 left_f3_arccos_x\n",
      "15 upper_joints_velocity_x\n",
      "16 sum _of_log-energy_x\n",
      "17 auto_cor_x\n",
      "18 p1_knee_hip.1\n",
      "19 p1_nose_hip.1\n",
      "20 p1_r_hand_l_hand.1\n",
      "21 p1_nose_hand.1\n",
      "22 p1_nose_elbow.1\n",
      "23 p1_neck_hand.1\n",
      "24 p1_foot_nose.1\n",
      "25 max_hand.1_x\n",
      "26 right_f1_arccos.1_x\n",
      "27 right_f2_arccos.1_x\n",
      "28 right_f3_arccos.1_x\n",
      "29 left_f1_arccos.1_x\n",
      "30 left_f2_arccos.1_x\n",
      "31 left_f3_arccos.1_x\n",
      "32 upper_joints_velocity.1_x\n",
      "33 sum _of_log-energy.1_x\n",
      "34 auto_cor.1_x\n",
      "35 p1_knee_hip.2\n",
      "36 p1_nose_hip.2\n",
      "37 p1_r_hand_l_hand.2\n",
      "38 p1_nose_hand.2\n",
      "39 p1_nose_elbow.2\n",
      "40 p1_neck_hand.2\n",
      "41 p1_foot_nose.2\n",
      "42 max_hand.2_x\n",
      "43 right_f1_arccos.2_x\n",
      "44 right_f2_arccos.2_x\n",
      "45 right_f3_arccos.2_x\n",
      "46 left_f1_arccos.2_x\n",
      "47 left_f2_arccos.2_x\n",
      "48 left_f3_arccos.2_x\n",
      "49 upper_joints_velocity.2_x\n",
      "50 sum _of_log-energy.2_x\n",
      "51 auto_cor.2_x\n",
      "52 p1-yaw\n",
      "53 p1-pitch\n",
      "54 p1-roll\n",
      "55 p2-yaw\n",
      "56 p2-pitch\n",
      "57 p2-roll\n",
      "58 p2_knee_hip\n",
      "59 p2_nose_hip\n",
      "60 p2_r_hand_l_hand\n",
      "61 p2_nose_hand\n",
      "62 p2_nose_elbow\n",
      "63 p2_neck_hand\n",
      "64 p2_foot_nose\n",
      "65 max_hand_y\n",
      "66 right_f1_arccos_y\n",
      "67 right_f2_arccos_y\n",
      "68 right_f3_arccos_y\n",
      "69 left_f1_arccos_y\n",
      "70 left_f2_arccos_y\n",
      "71 left_f3_arccos_y\n",
      "72 upper_joints_velocity_y\n",
      "73 sum _of_log-energy_y\n",
      "74 auto_cor_y\n",
      "75 p2_knee_hip.1\n",
      "76 p2_nose_hip.1\n",
      "77 p2_r_hand_l_hand.1\n",
      "78 p2_nose_hand.1\n",
      "79 p2_nose_elbow.1\n",
      "80 p2_neck_hand.1\n",
      "81 p2_foot_nose.1\n",
      "82 max_hand.1_y\n",
      "83 right_f1_arccos.1_y\n",
      "84 right_f2_arccos.1_y\n",
      "85 right_f3_arccos.1_y\n",
      "86 left_f1_arccos.1_y\n",
      "87 left_f2_arccos.1_y\n",
      "88 left_f3_arccos.1_y\n",
      "89 upper_joints_velocity.1_y\n",
      "90 sum _of_log-energy.1_y\n",
      "91 auto_cor.1_y\n",
      "92 p2_knee_hip.2\n",
      "93 p2_nose_hip.2\n",
      "94 p2_r_hand_l_hand.2\n",
      "95 p2_nose_hand.2\n",
      "96 p2_nose_elbow.2\n",
      "97 p2_neck_hand.2\n",
      "98 p2_foot_nose.2\n",
      "99 max_hand.2_y\n",
      "100 right_f1_arccos.2_y\n",
      "101 right_f2_arccos.2_y\n",
      "102 right_f3_arccos.2_y\n",
      "103 left_f1_arccos.2_y\n",
      "104 left_f2_arccos.2_y\n",
      "105 left_f3_arccos.2_y\n",
      "106 upper_joints_velocity.2_y\n",
      "107 sum _of_log-energy.2_y\n",
      "108 auto_cor.2_y\n",
      "109 0\n",
      "110 1\n",
      "111 2\n",
      "112 3\n",
      "113 4\n",
      "114 5\n",
      "115 6\n",
      "116 7\n",
      "117 8\n",
      "118 9\n",
      "119 10\n",
      "120 11\n",
      "121 12\n",
      "122 13\n",
      "123 14\n",
      "124 15\n",
      "125 16\n",
      "126 17\n",
      "127 18\n",
      "128 19\n",
      "129 20\n",
      "130 21\n",
      "131 22\n",
      "132 23\n",
      "133 24\n",
      "134 25\n",
      "135 26\n",
      "136 27\n",
      "137 28\n",
      "138 29\n",
      "139 30\n",
      "140 31\n",
      "141 32\n",
      "142 33\n",
      "143 34\n",
      "144 35\n",
      "145 36\n",
      "146 37\n",
      "147 38\n",
      "148 39\n",
      "149 40\n",
      "150 41\n",
      "151 42\n",
      "152 43\n",
      "153 44\n",
      "154 45\n",
      "155 46\n",
      "156 47\n",
      "157 48\n",
      "158 49\n",
      "159 50\n",
      "160 51\n",
      "161 52\n",
      "162 53\n",
      "163 54\n",
      "164 55\n",
      "165 56\n",
      "166 57\n",
      "167 58\n",
      "168 59\n",
      "169 60\n",
      "170 61\n",
      "171 62\n",
      "172 63\n",
      "173 64\n",
      "174 65\n",
      "175 66\n",
      "176 67\n",
      "177 68\n",
      "178 69\n",
      "179 70\n",
      "180 71\n",
      "181 72\n",
      "182 73\n",
      "183 74\n",
      "184 75\n",
      "185 76\n",
      "186 77\n",
      "187 78\n",
      "188 79\n",
      "189 80\n",
      "190 81\n",
      "191 82\n",
      "192 83\n",
      "193 84\n",
      "194 85\n",
      "195 86\n",
      "196 87\n",
      "197 88\n",
      "198 89\n",
      "199 90\n",
      "200 91\n",
      "201 92\n",
      "202 93\n",
      "203 94\n",
      "204 95\n",
      "205 96\n",
      "206 97\n",
      "207 98\n",
      "208 99\n",
      "209 100\n",
      "210 101\n",
      "211 102\n",
      "212 103\n",
      "213 104\n",
      "214 105\n",
      "215 106\n",
      "216 107\n",
      "217 108\n",
      "218 109\n",
      "219 110\n",
      "220 111\n",
      "221 112\n",
      "222 113\n",
      "223 114\n",
      "224 115\n",
      "225 116\n",
      "226 117\n",
      "227 118\n",
      "228 119\n",
      "229 p1_to_p2torso\n",
      "230 p2_to_p1torso\n",
      "231 torso_to_torso\n",
      "232 energy_joints1_to_torso2\n",
      "233 energy_joints2_to_torso1\n",
      "234 0.1\n",
      "235 1.1\n",
      "236 2.1\n",
      "237 3.1\n",
      "238 4.1\n",
      "239 5.1\n",
      "240 6.1\n",
      "241 7.1\n",
      "242 8.1\n",
      "243 9.1\n",
      "244 10.1\n",
      "245 11.1\n",
      "246 12.1\n",
      "247 13.1\n",
      "248 14.1\n",
      "249 15.1\n",
      "250 16.1\n",
      "251 17.1\n",
      "252 18.1\n",
      "253 19.1\n",
      "254 20.1\n",
      "255 21.1\n",
      "256 22.1\n",
      "257 23.1\n",
      "258 24.1\n",
      "259 25.1\n",
      "260 26.1\n",
      "261 27.1\n",
      "262 28.1\n",
      "263 29.1\n",
      "264 30.1\n",
      "265 31.1\n",
      "266 32.1\n",
      "267 33.1\n",
      "268 34.1\n",
      "269 35.1\n",
      "270 36.1\n",
      "271 37.1\n",
      "272 38.1\n",
      "273 39.1\n",
      "274 40.1\n",
      "275 41.1\n",
      "276 42.1\n",
      "277 43.1\n",
      "278 44.1\n",
      "279 45.1\n",
      "280 46.1\n",
      "281 47.1\n",
      "282 48.1\n",
      "283 49.1\n",
      "284 50.1\n",
      "285 51.1\n",
      "286 52.1\n",
      "287 53.1\n",
      "288 54.1\n",
      "289 55.1\n",
      "290 56.1\n",
      "291 57.1\n",
      "292 58.1\n",
      "293 59.1\n",
      "294 60.1\n",
      "295 61.1\n",
      "296 62.1\n",
      "297 63.1\n",
      "298 64.1\n",
      "299 65.1\n",
      "300 66.1\n",
      "301 67.1\n",
      "302 68.1\n",
      "303 69.1\n",
      "304 70.1\n",
      "305 71.1\n",
      "306 72.1\n",
      "307 73.1\n",
      "308 74.1\n",
      "309 75.1\n",
      "310 76.1\n",
      "311 77.1\n",
      "312 78.1\n",
      "313 79.1\n",
      "314 80.1\n",
      "315 81.1\n",
      "316 82.1\n",
      "317 83.1\n",
      "318 84.1\n",
      "319 85.1\n",
      "320 86.1\n",
      "321 87.1\n",
      "322 88.1\n",
      "323 89.1\n",
      "324 90.1\n",
      "325 91.1\n",
      "326 92.1\n",
      "327 93.1\n",
      "328 94.1\n",
      "329 95.1\n",
      "330 96.1\n",
      "331 97.1\n",
      "332 98.1\n",
      "333 99.1\n",
      "334 100.1\n",
      "335 101.1\n",
      "336 102.1\n",
      "337 103.1\n",
      "338 104.1\n",
      "339 105.1\n",
      "340 106.1\n",
      "341 107.1\n",
      "342 108.1\n",
      "343 109.1\n",
      "344 110.1\n",
      "345 111.1\n",
      "346 112.1\n",
      "347 113.1\n",
      "348 114.1\n",
      "349 115.1\n",
      "350 116.1\n",
      "351 117.1\n",
      "352 118.1\n",
      "353 119.1\n",
      "dataset successfully loaded!\n"
     ]
    }
   ],
   "source": [
    "p1 = pd.read_csv('ASC_NONASC_LOF_FORPYTHON.csv')\n",
    "\n",
    "\n",
    "with open('ASC_NONASC_LOF_FORPYTHON.csv',newline='') as csvfile:\n",
    "    p1_data = list(csv.reader(csvfile))\n",
    "p1_data_head = np.array(p1_data[0])\n",
    "p1_data_data = np.array(p1_data[1:])\n",
    "\n",
    "print('ASC_NONASC_LOF_FORPYTHON HEADER')\n",
    "for i,n in enumerate(p1_data_head): print(i,n)\n",
    "    \n",
    "print (\"dataset successfully loaded!\")"
   ]
  },
  {
   "cell_type": "code",
   "execution_count": 3,
   "metadata": {},
   "outputs": [
    {
     "name": "stdout",
     "output_type": "stream",
     "text": [
      "(230, 354)\n"
     ]
    }
   ],
   "source": [
    "# dimensions of the datasets\n",
    "print(p1.shape)"
   ]
  },
  {
   "cell_type": "markdown",
   "metadata": {},
   "source": [
    "## Data preparation visualization and exploration\n",
    "\n",
    "**Check the frequency of differient behaviors**"
   ]
  },
  {
   "cell_type": "code",
   "execution_count": 4,
   "metadata": {},
   "outputs": [
    {
     "name": "stdout",
     "output_type": "stream",
     "text": [
      "1    117\n",
      "2    113\n",
      "Name: Type, dtype: int64\n"
     ]
    }
   ],
   "source": [
    "print (p1[\"Type\"].value_counts()) "
   ]
  },
  {
   "cell_type": "markdown",
   "metadata": {},
   "source": [
    "#### Data formatting and data preparation"
   ]
  },
  {
   "cell_type": "code",
   "execution_count": 5,
   "metadata": {},
   "outputs": [
    {
     "data": {
      "text/plain": [
       "((115, 353), (115,), (115, 353), (115,))"
      ]
     },
     "execution_count": 5,
     "metadata": {},
     "output_type": "execute_result"
    }
   ],
   "source": [
    "p1_y = p1_data_data[:,0]\n",
    "p1_x = p1_data_data[:,1:]\n",
    "p1_y = p1_y.astype(np.float) # convert array to strings to array of floats\n",
    "p1_x = p1_x.astype(np.float) # convert array to strings to array of floats\n",
    "\n",
    "# Normalize data, some methods are sensitive to high scale differiences between features\n",
    "from sklearn.preprocessing import MinMaxScaler\n",
    "scaler = MinMaxScaler(feature_range=(0,1))\n",
    "p1_x = scaler.fit_transform(p1_x)\n",
    "\n",
    "# Sample a training set hold out 50% of the data while for test 50% of the data\n",
    "import numpy as np\n",
    "from sklearn.model_selection import train_test_split\n",
    "X_train, X_test, y_train, y_test = train_test_split(p1_x, p1_y, test_size=0.5, random_state=0)\n",
    "X_train.shape, y_train.shape, X_test.shape, y_test.shape"
   ]
  },
  {
   "cell_type": "markdown",
   "metadata": {},
   "source": [
    "## Feature selection\n",
    "\n",
    "We have 51 features which is too much may cause overfitting, so we select the 10 most relevant features with SelectKBest (based on f_classif score function by default). It selects features according to the k highest scores. And will compare the result using the selected features, with the result using all features."
   ]
  },
  {
   "cell_type": "code",
   "execution_count": 27,
   "metadata": {},
   "outputs": [],
   "source": [
    "from sklearn.feature_selection import SelectKBest,RFECV\n",
    "features = SelectKBest(k=20).fit(X_train, y_train).get_support()"
   ]
  },
  {
   "cell_type": "code",
   "execution_count": 28,
   "metadata": {},
   "outputs": [
    {
     "name": "stdout",
     "output_type": "stream",
     "text": [
      "Features selected by using SelectKBest:\n",
      "- p1_nose_hip\n",
      "- p1_nose_elbow\n",
      "- p1_foot_nose\n",
      "- right_f2_arccos_x\n",
      "- left_f2_arccos_x\n",
      "- sum _of_log-energy_x\n",
      "- max_hand.1_x\n",
      "- p2_nose_hand\n",
      "- p2_nose_elbow\n",
      "- p2_foot_nose\n",
      "- sum _of_log-energy_y\n",
      "- p2_nose_elbow.2\n",
      "- max_hand.2_y\n",
      "- 1\n",
      "- 8\n",
      "- 11\n",
      "- 12\n",
      "- 13\n",
      "- 14\n",
      "- 52\n"
     ]
    }
   ],
   "source": [
    "print ('Features selected by using SelectKBest:')\n",
    "for (i,j) in zip(p1_data_head[1:], features):\n",
    "    if j: print('-', i)"
   ]
  },
  {
   "cell_type": "markdown",
   "metadata": {},
   "source": [
    "## Support Vector Machine - Classification\n",
    "\n",
    "### SVM Linear Kernel"
   ]
  },
  {
   "cell_type": "code",
   "execution_count": 6,
   "metadata": {},
   "outputs": [
    {
     "name": "stdout",
     "output_type": "stream",
     "text": [
      "Score for each run of the cross validation:  [0.52173913 0.69565217 0.73913043 0.65217391 0.65217391]\n",
      ">> Accuracy: 0.65 (+/- 0.15)\n",
      "Mean accuracy on the test data and labels: 0.5391304347826087\n"
     ]
    }
   ],
   "source": [
    "import numpy as np\n",
    "from sklearn import svm\n",
    "from sklearn.model_selection import cross_val_score\n",
    "from sklearn.model_selection import train_test_split\n",
    "\n",
    "# SVM with linear kernel\n",
    "clf = svm.SVC(kernel='linear').fit(X_train, y_train)\n",
    "scores = cross_val_score(clf,X_train, y_train, cv=5)\n",
    "print (\"Score for each run of the cross validation: \", scores)\n",
    "# The mean score and the 95% confidence interval of the score estimate are hence given by:\n",
    "print(\">> Accuracy: %0.2f (+/- %0.2f)\"%(scores.mean(), scores.std()*2))\n",
    "score = clf.score(X_test, y_test)\n",
    "print(\"Mean accuracy on the test data and labels:\",score)"
   ]
  },
  {
   "cell_type": "code",
   "execution_count": 56,
   "metadata": {},
   "outputs": [
    {
     "name": "stdout",
     "output_type": "stream",
     "text": [
      "SVM Linear Kernel\n",
      "[[36 23]\n",
      " [31 25]]\n"
     ]
    },
    {
     "ename": "AttributeError",
     "evalue": "module 'matplotlib' has no attribute 'show'",
     "output_type": "error",
     "traceback": [
      "\u001b[1;31m---------------------------------------------------------------------------\u001b[0m",
      "\u001b[1;31mAttributeError\u001b[0m                            Traceback (most recent call last)",
      "\u001b[1;32m<ipython-input-56-5cbcc5b49cd2>\u001b[0m in \u001b[0;36m<module>\u001b[1;34m\u001b[0m\n\u001b[0;32m     11\u001b[0m     \u001b[0mprint\u001b[0m\u001b[1;33m(\u001b[0m\u001b[0mtitle\u001b[0m\u001b[1;33m)\u001b[0m\u001b[1;33m\u001b[0m\u001b[1;33m\u001b[0m\u001b[0m\n\u001b[0;32m     12\u001b[0m     \u001b[0mprint\u001b[0m\u001b[1;33m(\u001b[0m\u001b[0mdisp\u001b[0m\u001b[1;33m.\u001b[0m\u001b[0mconfusion_matrix\u001b[0m\u001b[1;33m)\u001b[0m\u001b[1;33m\u001b[0m\u001b[1;33m\u001b[0m\u001b[0m\n\u001b[1;32m---> 13\u001b[1;33m     \u001b[0mplt\u001b[0m\u001b[1;33m.\u001b[0m\u001b[0mshow\u001b[0m\u001b[1;33m(\u001b[0m\u001b[1;33m)\u001b[0m\u001b[1;33m\u001b[0m\u001b[1;33m\u001b[0m\u001b[0m\n\u001b[0m",
      "\u001b[1;31mAttributeError\u001b[0m: module 'matplotlib' has no attribute 'show'"
     ]
    },
    {
     "data": {
      "image/png": "[encoded data removed]",
      "text/plain": [
       "<Figure size 432x288 with 2 Axes>"
      ]
     },
     "metadata": {
      "needs_background": "light"
     },
     "output_type": "display_data"
    }
   ],
   "source": [
    "# Plot non-normalized confusion matrix\n",
    "titles_options = [(\"SVM Linear Kernel\", None),\n",
    "                  (\"Normalized confusion matrix\", 'true')]\n",
    "for title, normalize in titles_options:\n",
    "    disp = plot_confusion_matrix(clf, X_test, y_test,\n",
    "                                 display_labels=['ASC','NONASC'],\n",
    "                                 cmap=plt.cm.Blues,\n",
    "                                 normalize=normalize)\n",
    "    disp.ax_.set_title(title)\n",
    "\n",
    "    print(title)\n",
    "    print(disp.confusion_matrix)\n",
    "    plt.show()"
   ]
  },
  {
   "cell_type": "markdown",
   "metadata": {},
   "source": [
    "### SVM polynomial kernel, degree 2,3,4 and 5"
   ]
  },
  {
   "cell_type": "code",
   "execution_count": 32,
   "metadata": {},
   "outputs": [
    {
     "name": "stdout",
     "output_type": "stream",
     "text": [
      "\n",
      "Polynomial kernel, degree =  2\n",
      "Score for each run of the cross validation:  [0.47826087 0.65217391 0.65217391 0.69565217 0.65217391]\n",
      ">> Accuracy: 0.63 (+/- 0.15)\n",
      "Mean accuracy on the test data and labels:  0.5304347826086957\n",
      "\n",
      "Polynomial kernel, degree =  3\n",
      "Score for each run of the cross validation:  [0.56521739 0.65217391 0.7826087  0.52173913 0.69565217]\n",
      ">> Accuracy: 0.64 (+/- 0.19)\n",
      "Mean accuracy on the test data and labels:  0.5043478260869565\n",
      "\n",
      "Polynomial kernel, degree =  4\n",
      "Score for each run of the cross validation:  [0.52173913 0.65217391 0.56521739 0.69565217 0.65217391]\n",
      ">> Accuracy: 0.62 (+/- 0.13)\n",
      "Mean accuracy on the test data and labels:  0.4782608695652174\n",
      "\n",
      "Polynomial kernel, degree =  5\n",
      "Score for each run of the cross validation:  [0.47826087 0.60869565 0.52173913 0.65217391 0.65217391]\n",
      ">> Accuracy: 0.58 (+/- 0.14)\n",
      "Mean accuracy on the test data and labels:  0.4782608695652174\n"
     ]
    }
   ],
   "source": [
    "for i in [2, 3, 4, 5]:\n",
    "  clf = svm.SVC(kernel='poly',degree=i).fit(X_train, y_train)\n",
    "  yhat = clf.predict(X_test)\n",
    "\n",
    "  print(\"\\nPolynomial kernel, degree = \", i)\n",
    "  scores = cross_val_score(clf, X_train, y_train, cv=5)\n",
    "  print(\"Score for each run of the cross validation: \", scores)\n",
    "  # The mean score and the 95% confidence interval of the score estimate are hence given by:\n",
    "  print(\">> Accuracy: %0.2f (+/- %0.2f)\" % (scores.mean(), scores.std() * 2))\n",
    "  score = clf.score(X_test, y_test)\n",
    "  print(\"Mean accuracy on the test data and labels: \", score)"
   ]
  },
  {
   "cell_type": "code",
   "execution_count": 55,
   "metadata": {},
   "outputs": [
    {
     "name": "stdout",
     "output_type": "stream",
     "text": [
      "SVM polynomial Kernel\n",
      "[[36 23]\n",
      " [31 25]]\n"
     ]
    },
    {
     "ename": "AttributeError",
     "evalue": "module 'matplotlib' has no attribute 'show'",
     "output_type": "error",
     "traceback": [
      "\u001b[1;31m---------------------------------------------------------------------------\u001b[0m",
      "\u001b[1;31mAttributeError\u001b[0m                            Traceback (most recent call last)",
      "\u001b[1;32m<ipython-input-55-b2bec4c84dfc>\u001b[0m in \u001b[0;36m<module>\u001b[1;34m\u001b[0m\n\u001b[0;32m     12\u001b[0m     \u001b[0mprint\u001b[0m\u001b[1;33m(\u001b[0m\u001b[0mtitle\u001b[0m\u001b[1;33m)\u001b[0m\u001b[1;33m\u001b[0m\u001b[1;33m\u001b[0m\u001b[0m\n\u001b[0;32m     13\u001b[0m     \u001b[0mprint\u001b[0m\u001b[1;33m(\u001b[0m\u001b[0mdisp\u001b[0m\u001b[1;33m.\u001b[0m\u001b[0mconfusion_matrix\u001b[0m\u001b[1;33m)\u001b[0m\u001b[1;33m\u001b[0m\u001b[1;33m\u001b[0m\u001b[0m\n\u001b[1;32m---> 14\u001b[1;33m     \u001b[0mplt\u001b[0m\u001b[1;33m.\u001b[0m\u001b[0mshow\u001b[0m\u001b[1;33m(\u001b[0m\u001b[1;33m)\u001b[0m\u001b[1;33m\u001b[0m\u001b[1;33m\u001b[0m\u001b[0m\n\u001b[0m",
      "\u001b[1;31mAttributeError\u001b[0m: module 'matplotlib' has no attribute 'show'"
     ]
    },
    {
     "data": {
      "image/png": "[encoded data removed]",
      "text/plain": [
       "<Figure size 432x288 with 2 Axes>"
      ]
     },
     "metadata": {
      "needs_background": "light"
     },
     "output_type": "display_data"
    }
   ],
   "source": [
    "# Plot non-normalized confusion matrix\n",
    "titles_options = [(\"SVM polynomial Kernel\", None),\n",
    "                  (\"Normalized confusion matrix\", 'true')]\n",
    "clf = svm.SVC(kernel='poly',degree=2).fit(X_train, y_train)\n",
    "for title, normalize in titles_options:\n",
    "    disp = plot_confusion_matrix(clf, X_test, y_test,\n",
    "                                 display_labels=['ASC','NONASC'],\n",
    "                                 cmap=plt.cm.Blues,\n",
    "                                 normalize=normalize)\n",
    "    disp.ax_.set_title(title)\n",
    "\n",
    "    print(title)\n",
    "    print(disp.confusion_matrix)\n",
    "    plt.show()"
   ]
  },
  {
   "cell_type": "markdown",
   "metadata": {},
   "source": [
    "### SVM with RBF kernel"
   ]
  },
  {
   "cell_type": "code",
   "execution_count": 34,
   "metadata": {},
   "outputs": [
    {
     "name": "stdout",
     "output_type": "stream",
     "text": [
      "Score for each run of the cross validation:  [0.52173913 0.43478261 0.65217391 0.60869565 0.47826087]\n",
      ">> Accuracy: 0.54 (+/- 0.16)\n",
      "Mean accuracy on the test data and labels:  0.6086956521739131\n"
     ]
    }
   ],
   "source": [
    "clf = svm.SVC(kernel='rbf').fit(X_train, y_train)\n",
    "scores = cross_val_score(clf, X_train, y_train, cv=5)\n",
    "print(\"Score for each run of the cross validation: \", scores)\n",
    "# The mean score and the 95% confidence interval of the score estimate are hence given by:\n",
    "print(\">> Accuracy: %0.2f (+/- %0.2f)\" % (scores.mean(), scores.std() * 2))\n",
    "score = clf.score(X_test, y_test)\n",
    "print(\"Mean accuracy on the test data and labels: \", score)"
   ]
  },
  {
   "cell_type": "markdown",
   "metadata": {},
   "source": [
    "### SVM with sigmoid kernel"
   ]
  },
  {
   "cell_type": "code",
   "execution_count": 35,
   "metadata": {},
   "outputs": [
    {
     "name": "stdout",
     "output_type": "stream",
     "text": [
      "Score for each run of the cross validation:  [0.47826087 0.47826087 0.43478261 0.47826087 0.56521739]\n",
      ">> Accuracy: 0.49 (+/- 0.09)\n",
      "Mean accuracy on the test data and labels:  0.5130434782608696\n"
     ]
    }
   ],
   "source": [
    "clf = svm.SVC(kernel='sigmoid', C=1).fit(X_train, y_train)\n",
    "scores = cross_val_score(clf, X_train, y_train, cv=5)\n",
    "print(\"Score for each run of the cross validation: \", scores)\n",
    "# The mean score and the 95% confidence interval of the score estimate are hence given by:\n",
    "print(\">> Accuracy: %0.2f (+/- %0.2f)\" % (scores.mean(), scores.std() * 2))\n",
    "score = clf.score(X_test, y_test)\n",
    "print(\"Mean accuracy on the test data and labels: \", score)"
   ]
  },
  {
   "cell_type": "markdown",
   "metadata": {},
   "source": [
    "## MLP\n",
    "\n",
    "### MLP with adam solver"
   ]
  },
  {
   "cell_type": "code",
   "execution_count": 36,
   "metadata": {},
   "outputs": [
    {
     "name": "stdout",
     "output_type": "stream",
     "text": [
      "Accuracy of MLPClassifier :  0.5217391304347826\n"
     ]
    }
   ],
   "source": [
    "import numpy as np\n",
    "from sklearn import svm\n",
    "from sklearn.model_selection import cross_val_score\n",
    "from sklearn.model_selection import train_test_split\n",
    "from sklearn.neural_network import MLPClassifier\n",
    "\n",
    "classifier = MLPClassifier(hidden_layer_sizes=(100,),\n",
    "                           max_iter=10000,\n",
    "                           activation = 'tanh',\n",
    "                           solver='adam',\n",
    "                           random_state=1)\n",
    "#https://analyticsindiamag.com/a-beginners-guide-to-scikit-learns-mlpclassifier/\n",
    "#Fitting the training data to the network\n",
    "classifier.fit(X_train, y_train)\n",
    "\n",
    "print(\"Accuracy of MLPClassifier : \", classifier.score(X_test, y_test))"
   ]
  },
  {
   "cell_type": "code",
   "execution_count": 37,
   "metadata": {},
   "outputs": [
    {
     "name": "stdout",
     "output_type": "stream",
     "text": [
      "Score for each run of the cross validation:  [0.65217391 0.65217391 0.69565217 0.56521739 0.65217391]\n",
      ">> Accuracy: 0.64 (+/- 0.09)\n",
      "Mean accuracy on the test data and labels:  0.5217391304347826\n"
     ]
    }
   ],
   "source": [
    "scores = cross_val_score(classifier, X_train, y_train, cv=5)\n",
    "print(\"Score for each run of the cross validation: \", scores)\n",
    "# The mean score and the 95% confidence interval of the score estimate are hence given by:\n",
    "print(\">> Accuracy: %0.2f (+/- %0.2f)\" % (scores.mean(), scores.std() * 2))\n",
    "score = classifier.score(X_test, y_test)\n",
    "print(\"Mean accuracy on the test data and labels: \", score)"
   ]
  },
  {
   "cell_type": "code",
   "execution_count": 54,
   "metadata": {},
   "outputs": [
    {
     "name": "stdout",
     "output_type": "stream",
     "text": [
      "MLP with adam solver\n",
      "[[40 19]\n",
      " [22 34]]\n"
     ]
    },
    {
     "ename": "AttributeError",
     "evalue": "module 'matplotlib' has no attribute 'show'",
     "output_type": "error",
     "traceback": [
      "\u001b[1;31m---------------------------------------------------------------------------\u001b[0m",
      "\u001b[1;31mAttributeError\u001b[0m                            Traceback (most recent call last)",
      "\u001b[1;32m<ipython-input-54-deff0596c398>\u001b[0m in \u001b[0;36m<module>\u001b[1;34m\u001b[0m\n\u001b[0;32m     11\u001b[0m     \u001b[0mprint\u001b[0m\u001b[1;33m(\u001b[0m\u001b[0mtitle\u001b[0m\u001b[1;33m)\u001b[0m\u001b[1;33m\u001b[0m\u001b[1;33m\u001b[0m\u001b[0m\n\u001b[0;32m     12\u001b[0m     \u001b[0mprint\u001b[0m\u001b[1;33m(\u001b[0m\u001b[0mdisp\u001b[0m\u001b[1;33m.\u001b[0m\u001b[0mconfusion_matrix\u001b[0m\u001b[1;33m)\u001b[0m\u001b[1;33m\u001b[0m\u001b[1;33m\u001b[0m\u001b[0m\n\u001b[1;32m---> 13\u001b[1;33m     \u001b[0mplt\u001b[0m\u001b[1;33m.\u001b[0m\u001b[0mshow\u001b[0m\u001b[1;33m(\u001b[0m\u001b[1;33m)\u001b[0m\u001b[1;33m\u001b[0m\u001b[1;33m\u001b[0m\u001b[0m\n\u001b[0m",
      "\u001b[1;31mAttributeError\u001b[0m: module 'matplotlib' has no attribute 'show'"
     ]
    },
    {
     "data": {
      "image/png": "[encoded data removed]",
      "text/plain": [
       "<Figure size 432x288 with 2 Axes>"
      ]
     },
     "metadata": {
      "needs_background": "light"
     },
     "output_type": "display_data"
    }
   ],
   "source": [
    "# Plot non-normalized confusion matrix\n",
    "titles_options = [(\"MLP with adam solver\", None),\n",
    "                  (\"Normalized confusion matrix\", 'true')]\n",
    "for title, normalize in titles_options:\n",
    "    disp = plot_confusion_matrix(classifier, X_test, y_test,\n",
    "                                 display_labels=['ASC','NONASC'],\n",
    "                                 cmap=plt.cm.Blues,\n",
    "                                 normalize=normalize)\n",
    "    disp.ax_.set_title(title)\n",
    "\n",
    "    print(title)\n",
    "    print(disp.confusion_matrix)\n",
    "    plt.show()"
   ]
  },
  {
   "cell_type": "markdown",
   "metadata": {},
   "source": [
    "### MLP with sgd solver"
   ]
  },
  {
   "cell_type": "code",
   "execution_count": 39,
   "metadata": {},
   "outputs": [
    {
     "name": "stdout",
     "output_type": "stream",
     "text": [
      "Accuracy of MLPClassifier :  0.5652173913043478\n",
      "Score for each run of the cross validation:  [0.60869565 0.69565217 0.65217391 0.65217391 0.65217391]\n",
      ">> Accuracy: 0.65 (+/- 0.05)\n",
      "Mean accuracy on the test data and labels:  0.5652173913043478\n"
     ]
    }
   ],
   "source": [
    "classifier = MLPClassifier(max_iter=10000,\n",
    "                           activation = 'relu',\n",
    "                           solver='sgd',\n",
    "                           learning_rate='adaptive',\n",
    "                           random_state=1)\n",
    "classifier.fit(X_train, y_train)\n",
    "print(\"Accuracy of MLPClassifier : \", classifier.score(X_test, y_test))\n",
    "scores = cross_val_score(classifier, X_train, y_train, cv=5)\n",
    "print(\"Score for each run of the cross validation: \", scores)\n",
    "# The mean score and the 95% confidence interval of the score estimate are hence given by:\n",
    "print(\">> Accuracy: %0.2f (+/- %0.2f)\" % (scores.mean(), scores.std() * 2))\n",
    "score = classifier.score(X_test, y_test)\n",
    "print(\"Mean accuracy on the test data and labels: \", score)"
   ]
  },
  {
   "cell_type": "code",
   "execution_count": 53,
   "metadata": {},
   "outputs": [
    {
     "name": "stdout",
     "output_type": "stream",
     "text": [
      "MLP with sgd solver\n",
      "[[40 19]\n",
      " [22 34]]\n"
     ]
    },
    {
     "ename": "AttributeError",
     "evalue": "module 'matplotlib' has no attribute 'show'",
     "output_type": "error",
     "traceback": [
      "\u001b[1;31m---------------------------------------------------------------------------\u001b[0m",
      "\u001b[1;31mAttributeError\u001b[0m                            Traceback (most recent call last)",
      "\u001b[1;32m<ipython-input-53-dea7aff3ba47>\u001b[0m in \u001b[0;36m<module>\u001b[1;34m\u001b[0m\n\u001b[0;32m     11\u001b[0m     \u001b[0mprint\u001b[0m\u001b[1;33m(\u001b[0m\u001b[0mtitle\u001b[0m\u001b[1;33m)\u001b[0m\u001b[1;33m\u001b[0m\u001b[1;33m\u001b[0m\u001b[0m\n\u001b[0;32m     12\u001b[0m     \u001b[0mprint\u001b[0m\u001b[1;33m(\u001b[0m\u001b[0mdisp\u001b[0m\u001b[1;33m.\u001b[0m\u001b[0mconfusion_matrix\u001b[0m\u001b[1;33m)\u001b[0m\u001b[1;33m\u001b[0m\u001b[1;33m\u001b[0m\u001b[0m\n\u001b[1;32m---> 13\u001b[1;33m     \u001b[0mplt\u001b[0m\u001b[1;33m.\u001b[0m\u001b[0mshow\u001b[0m\u001b[1;33m(\u001b[0m\u001b[1;33m)\u001b[0m\u001b[1;33m\u001b[0m\u001b[1;33m\u001b[0m\u001b[0m\n\u001b[0m",
      "\u001b[1;31mAttributeError\u001b[0m: module 'matplotlib' has no attribute 'show'"
     ]
    },
    {
     "data": {
      "image/png": "[encoded data removed]",
      "text/plain": [
       "<Figure size 432x288 with 2 Axes>"
      ]
     },
     "metadata": {
      "needs_background": "light"
     },
     "output_type": "display_data"
    }
   ],
   "source": [
    "# Plot non-normalized confusion matrix\n",
    "titles_options = [(\"MLP with sgd solver\", None),\n",
    "                  (\"Normalized confusion matrix\", 'true')]\n",
    "for title, normalize in titles_options:\n",
    "    disp = plot_confusion_matrix(classifier, X_test, y_test,\n",
    "                                 display_labels=['ASC','NONASC'],\n",
    "                                 cmap=plt.cm.Blues,\n",
    "                                 normalize=normalize)\n",
    "    disp.ax_.set_title(title)\n",
    "\n",
    "    print(title)\n",
    "    print(disp.confusion_matrix)\n",
    "    plt.show()"
   ]
  },
  {
   "cell_type": "markdown",
   "metadata": {},
   "source": [
    "## K Nearest Neighbor "
   ]
  },
  {
   "cell_type": "code",
   "execution_count": 44,
   "metadata": {},
   "outputs": [
    {
     "name": "stdout",
     "output_type": "stream",
     "text": [
      "Accuracy of MLPClassifier :  0.6434782608695652\n",
      "Score for each run of the cross validation:  [0.56521739 0.52173913 0.69565217 0.65217391 0.43478261]\n",
      ">> Accuracy: 0.57 (+/- 0.19)\n",
      "Mean accuracy on the test data and labels:  0.6434782608695652\n"
     ]
    }
   ],
   "source": [
    "from sklearn.neighbors import KNeighborsClassifier\n",
    "k = 8 # number of neighbors\n",
    "\n",
    "classifier = KNeighborsClassifier(n_neighbors=k)\n",
    "classifier.fit(X_train,y_train)\n",
    "print(\"Accuracy of MLPClassifier : \", classifier.score(X_test, y_test))\n",
    "scores = cross_val_score(classifier, X_train, y_train, cv=5)\n",
    "print(\"Score for each run of the cross validation: \", scores)\n",
    "\n",
    "# The mean score and the 95% confidence interval of the score estimate are hence given by:\n",
    "print(\">> Accuracy: %0.2f (+/- %0.2f)\" % (scores.mean(), scores.std() * 2))\n",
    "score = classifier.score(X_test, y_test)\n",
    "print(\"Mean accuracy on the test data and labels: \", score)"
   ]
  },
  {
   "cell_type": "markdown",
   "metadata": {},
   "source": [
    "#### Finding the best K for KNN"
   ]
  },
  {
   "cell_type": "code",
   "execution_count": 43,
   "metadata": {},
   "outputs": [
    {
     "name": "stdout",
     "output_type": "stream",
     "text": [
      "Mean accuracy on test data reaches the highest value for 8 neighbors\n"
     ]
    },
    {
     "ename": "TypeError",
     "evalue": "only size-1 arrays can be converted to Python scalars",
     "output_type": "error",
     "traceback": [
      "\u001b[1;31m---------------------------------------------------------------------------\u001b[0m",
      "\u001b[1;31mTypeError\u001b[0m                                 Traceback (most recent call last)",
      "\u001b[1;32m<ipython-input-43-833dd1a5c09a>\u001b[0m in \u001b[0;36m<module>\u001b[1;34m\u001b[0m\n\u001b[0;32m     14\u001b[0m \u001b[1;33m\u001b[0m\u001b[0m\n\u001b[0;32m     15\u001b[0m \u001b[0mprint\u001b[0m\u001b[1;33m(\u001b[0m\u001b[1;34m\"Mean accuracy on test data reaches the highest value for\"\u001b[0m\u001b[1;33m,\u001b[0m \u001b[0mint\u001b[0m\u001b[1;33m(\u001b[0m\u001b[0mnp\u001b[0m\u001b[1;33m.\u001b[0m\u001b[0mwhere\u001b[0m\u001b[1;33m(\u001b[0m\u001b[0mmt\u001b[0m \u001b[1;33m==\u001b[0m \u001b[0mmax\u001b[0m\u001b[1;33m(\u001b[0m\u001b[0mmt\u001b[0m\u001b[1;33m)\u001b[0m\u001b[1;33m)\u001b[0m\u001b[1;33m[\u001b[0m\u001b[1;36m0\u001b[0m\u001b[1;33m]\u001b[0m\u001b[1;33m)\u001b[0m\u001b[1;33m+\u001b[0m\u001b[1;36m1\u001b[0m\u001b[1;33m,\u001b[0m \u001b[1;34m\"neighbors\"\u001b[0m\u001b[1;33m)\u001b[0m\u001b[1;33m\u001b[0m\u001b[1;33m\u001b[0m\u001b[0m\n\u001b[1;32m---> 16\u001b[1;33m \u001b[0mprint\u001b[0m\u001b[1;33m(\u001b[0m\u001b[1;34m\"Mean accuracy on cv reaches the highest value for\"\u001b[0m\u001b[1;33m,\u001b[0m \u001b[0mint\u001b[0m\u001b[1;33m(\u001b[0m\u001b[0mnp\u001b[0m\u001b[1;33m.\u001b[0m\u001b[0mwhere\u001b[0m\u001b[1;33m(\u001b[0m\u001b[0mmcv\u001b[0m \u001b[1;33m==\u001b[0m \u001b[0mmax\u001b[0m\u001b[1;33m(\u001b[0m\u001b[0mmcv\u001b[0m\u001b[1;33m)\u001b[0m\u001b[1;33m)\u001b[0m\u001b[1;33m[\u001b[0m\u001b[1;36m0\u001b[0m\u001b[1;33m]\u001b[0m\u001b[1;33m)\u001b[0m\u001b[1;33m+\u001b[0m\u001b[1;36m1\u001b[0m\u001b[1;33m,\u001b[0m \u001b[1;34m\"neighbors\"\u001b[0m\u001b[1;33m)\u001b[0m\u001b[1;33m\u001b[0m\u001b[1;33m\u001b[0m\u001b[0m\n\u001b[0m",
      "\u001b[1;31mTypeError\u001b[0m: only size-1 arrays can be converted to Python scalars"
     ]
    }
   ],
   "source": [
    "Ks = 10\n",
    "jac = np.zeros(Ks)\n",
    "f1 = np.zeros(Ks)\n",
    "mcv = np.zeros(Ks)\n",
    "mt = np.zeros(Ks)\n",
    "\n",
    "for n in range(Ks):\n",
    "    kNN_model = KNeighborsClassifier(n_neighbors=n+1)\n",
    "    kNN_model.fit(X_train,y_train)\n",
    "    scores = cross_val_score(kNN_model, X_train, y_train, cv=5)\n",
    "    mcv[n] = scores.mean()\n",
    "    score = kNN_model.score(X_test, y_test)\n",
    "    mt[n] = score\n",
    "    \n",
    "print(\"Mean accuracy on test data reaches the highest value for\", int(np.where(mt == max(mt))[0])+1, \"neighbors\")\n",
    "print(\"Mean accuracy on cv reaches the highest value for\", int(np.where(mcv == max(mcv))[0])+1, \"neighbors\")"
   ]
  },
  {
   "cell_type": "code",
   "execution_count": 52,
   "metadata": {},
   "outputs": [
    {
     "name": "stdout",
     "output_type": "stream",
     "text": [
      "KNN\n",
      "[[40 19]\n",
      " [22 34]]\n"
     ]
    },
    {
     "ename": "AttributeError",
     "evalue": "module 'matplotlib' has no attribute 'show'",
     "output_type": "error",
     "traceback": [
      "\u001b[1;31m---------------------------------------------------------------------------\u001b[0m",
      "\u001b[1;31mAttributeError\u001b[0m                            Traceback (most recent call last)",
      "\u001b[1;32m<ipython-input-52-b270d1114dc9>\u001b[0m in \u001b[0;36m<module>\u001b[1;34m\u001b[0m\n\u001b[0;32m     11\u001b[0m     \u001b[0mprint\u001b[0m\u001b[1;33m(\u001b[0m\u001b[0mtitle\u001b[0m\u001b[1;33m)\u001b[0m\u001b[1;33m\u001b[0m\u001b[1;33m\u001b[0m\u001b[0m\n\u001b[0;32m     12\u001b[0m     \u001b[0mprint\u001b[0m\u001b[1;33m(\u001b[0m\u001b[0mdisp\u001b[0m\u001b[1;33m.\u001b[0m\u001b[0mconfusion_matrix\u001b[0m\u001b[1;33m)\u001b[0m\u001b[1;33m\u001b[0m\u001b[1;33m\u001b[0m\u001b[0m\n\u001b[1;32m---> 13\u001b[1;33m     \u001b[0mplt\u001b[0m\u001b[1;33m.\u001b[0m\u001b[0mshow\u001b[0m\u001b[1;33m(\u001b[0m\u001b[1;33m)\u001b[0m\u001b[1;33m\u001b[0m\u001b[1;33m\u001b[0m\u001b[0m\n\u001b[0m",
      "\u001b[1;31mAttributeError\u001b[0m: module 'matplotlib' has no attribute 'show'"
     ]
    },
    {
     "data": {
      "image/png": "[encoded data removed]",
      "text/plain": [
       "<Figure size 432x288 with 2 Axes>"
      ]
     },
     "metadata": {
      "needs_background": "light"
     },
     "output_type": "display_data"
    }
   ],
   "source": [
    "# Plot non-normalized confusion matrix\n",
    "titles_options = [(\"KNN\", None),\n",
    "                  (\"Normalized confusion matrix\", 'true')]\n",
    "for title, normalize in titles_options:\n",
    "    disp = plot_confusion_matrix(classifier, X_test, y_test,\n",
    "                                 display_labels=['ASC','NONASC'],\n",
    "                                 cmap=plt.cm.Blues,\n",
    "                                 normalize=normalize)\n",
    "    disp.ax_.set_title(title)\n",
    "\n",
    "    print(title)\n",
    "    print(disp.confusion_matrix)\n",
    "    plt.show()"
   ]
  },
  {
   "cell_type": "markdown",
   "metadata": {},
   "source": [
    "## Decision Trees"
   ]
  },
  {
   "cell_type": "code",
   "execution_count": 46,
   "metadata": {},
   "outputs": [
    {
     "name": "stdout",
     "output_type": "stream",
     "text": [
      "Score for each run of the cross validation:  [0.56521739 0.47826087 0.47826087 0.56521739 0.43478261]\n",
      ">> Accuracy: 0.50 (+/- 0.10)\n",
      "Mean accuracy on the test data and labels:  0.5565217391304348\n"
     ]
    }
   ],
   "source": [
    "from sklearn.tree import DecisionTreeClassifier\n",
    "DT_model = DecisionTreeClassifier(criterion=\"entropy\", max_depth = 4)\n",
    "DT_model.fit(X_train,y_train)\n",
    "\n",
    "scores = cross_val_score(DT_model, X_train, y_train, cv=5)\n",
    "print(\"Score for each run of the cross validation: \", scores)\n",
    "\n",
    "# The mean score and the 95% confidence interval of the score estimate are hence given by:\n",
    "print(\">> Accuracy: %0.2f (+/- %0.2f)\" % (scores.mean(), scores.std() * 2))\n",
    "score = DT_model.score(X_test, y_test)\n",
    "print(\"Mean accuracy on the test data and labels: \", score)"
   ]
  },
  {
   "cell_type": "code",
   "execution_count": 48,
   "metadata": {},
   "outputs": [
    {
     "name": "stdout",
     "output_type": "stream",
     "text": [
      "DT\n",
      "[[32 27]\n",
      " [24 32]]\n"
     ]
    },
    {
     "ename": "AttributeError",
     "evalue": "module 'matplotlib' has no attribute 'show'",
     "output_type": "error",
     "traceback": [
      "\u001b[1;31m---------------------------------------------------------------------------\u001b[0m",
      "\u001b[1;31mAttributeError\u001b[0m                            Traceback (most recent call last)",
      "\u001b[1;32m<ipython-input-48-fc18f53ebbf7>\u001b[0m in \u001b[0;36m<module>\u001b[1;34m\u001b[0m\n\u001b[0;32m     11\u001b[0m     \u001b[0mprint\u001b[0m\u001b[1;33m(\u001b[0m\u001b[0mtitle\u001b[0m\u001b[1;33m)\u001b[0m\u001b[1;33m\u001b[0m\u001b[1;33m\u001b[0m\u001b[0m\n\u001b[0;32m     12\u001b[0m     \u001b[0mprint\u001b[0m\u001b[1;33m(\u001b[0m\u001b[0mdisp\u001b[0m\u001b[1;33m.\u001b[0m\u001b[0mconfusion_matrix\u001b[0m\u001b[1;33m)\u001b[0m\u001b[1;33m\u001b[0m\u001b[1;33m\u001b[0m\u001b[0m\n\u001b[1;32m---> 13\u001b[1;33m     \u001b[0mplt\u001b[0m\u001b[1;33m.\u001b[0m\u001b[0mshow\u001b[0m\u001b[1;33m(\u001b[0m\u001b[1;33m)\u001b[0m\u001b[1;33m\u001b[0m\u001b[1;33m\u001b[0m\u001b[0m\n\u001b[0m",
      "\u001b[1;31mAttributeError\u001b[0m: module 'matplotlib' has no attribute 'show'"
     ]
    },
    {
     "data": {
      "image/png": "[encoded data removed]",
      "text/plain": [
       "<Figure size 432x288 with 2 Axes>"
      ]
     },
     "metadata": {
      "needs_background": "light"
     },
     "output_type": "display_data"
    }
   ],
   "source": [
    "# Plot non-normalized confusion matrix\n",
    "titles_options = [(\"DT\", None),\n",
    "                  (\"Normalized confusion matrix\", 'true')]\n",
    "for title, normalize in titles_options:\n",
    "    disp = plot_confusion_matrix(DT_model, X_test, y_test,\n",
    "                                 display_labels=['ASC','NONASC'],\n",
    "                                 cmap=plt.cm.Blues,\n",
    "                                 normalize=normalize)\n",
    "    disp.ax_.set_title(title)\n",
    "\n",
    "    print(title)\n",
    "    print(disp.confusion_matrix)\n",
    "    plt.show()"
   ]
  },
  {
   "cell_type": "markdown",
   "metadata": {},
   "source": [
    "## Logistic Regression"
   ]
  },
  {
   "cell_type": "code",
   "execution_count": 50,
   "metadata": {},
   "outputs": [
    {
     "name": "stderr",
     "output_type": "stream",
     "text": [
      "C:\\Users\\Dell\\Anaconda3\\lib\\site-packages\\sklearn\\linear_model\\_logistic.py:764: ConvergenceWarning: lbfgs failed to converge (status=1):\n",
      "STOP: TOTAL NO. of ITERATIONS REACHED LIMIT.\n",
      "\n",
      "Increase the number of iterations (max_iter) or scale the data as shown in:\n",
      "    https://scikit-learn.org/stable/modules/preprocessing.html\n",
      "Please also refer to the documentation for alternative solver options:\n",
      "    https://scikit-learn.org/stable/modules/linear_model.html#logistic-regression\n",
      "  extra_warning_msg=_LOGISTIC_SOLVER_CONVERGENCE_MSG)\n",
      "C:\\Users\\Dell\\Anaconda3\\lib\\site-packages\\sklearn\\linear_model\\_logistic.py:764: ConvergenceWarning: lbfgs failed to converge (status=1):\n",
      "STOP: TOTAL NO. of ITERATIONS REACHED LIMIT.\n",
      "\n",
      "Increase the number of iterations (max_iter) or scale the data as shown in:\n",
      "    https://scikit-learn.org/stable/modules/preprocessing.html\n",
      "Please also refer to the documentation for alternative solver options:\n",
      "    https://scikit-learn.org/stable/modules/linear_model.html#logistic-regression\n",
      "  extra_warning_msg=_LOGISTIC_SOLVER_CONVERGENCE_MSG)\n",
      "C:\\Users\\Dell\\Anaconda3\\lib\\site-packages\\sklearn\\linear_model\\_logistic.py:764: ConvergenceWarning: lbfgs failed to converge (status=1):\n",
      "STOP: TOTAL NO. of ITERATIONS REACHED LIMIT.\n",
      "\n",
      "Increase the number of iterations (max_iter) or scale the data as shown in:\n",
      "    https://scikit-learn.org/stable/modules/preprocessing.html\n",
      "Please also refer to the documentation for alternative solver options:\n",
      "    https://scikit-learn.org/stable/modules/linear_model.html#logistic-regression\n",
      "  extra_warning_msg=_LOGISTIC_SOLVER_CONVERGENCE_MSG)\n",
      "C:\\Users\\Dell\\Anaconda3\\lib\\site-packages\\sklearn\\linear_model\\_logistic.py:764: ConvergenceWarning: lbfgs failed to converge (status=1):\n",
      "STOP: TOTAL NO. of ITERATIONS REACHED LIMIT.\n",
      "\n",
      "Increase the number of iterations (max_iter) or scale the data as shown in:\n",
      "    https://scikit-learn.org/stable/modules/preprocessing.html\n",
      "Please also refer to the documentation for alternative solver options:\n",
      "    https://scikit-learn.org/stable/modules/linear_model.html#logistic-regression\n",
      "  extra_warning_msg=_LOGISTIC_SOLVER_CONVERGENCE_MSG)\n"
     ]
    },
    {
     "name": "stdout",
     "output_type": "stream",
     "text": [
      "Score for each run of the cross validation:  [0.60869565 0.60869565 0.65217391 0.60869565 0.69565217]\n",
      ">> Accuracy: 0.63 (+/- 0.07)\n",
      "Mean accuracy on the test data and labels:  0.5826086956521739\n"
     ]
    }
   ],
   "source": [
    "from sklearn.linear_model import LogisticRegression\n",
    "LR_model = LogisticRegression()\n",
    "LR_model.fit(X_train,y_train)\n",
    "\n",
    "scores = cross_val_score(LR_model, X_train, y_train, cv=5)\n",
    "print(\"Score for each run of the cross validation: \", scores)\n",
    "\n",
    "# The mean score and the 95% confidence interval of the score estimate are hence given by:\n",
    "print(\">> Accuracy: %0.2f (+/- %0.2f)\" % (scores.mean(), scores.std() * 2))\n",
    "score = LR_model.score(X_test, y_test)\n",
    "print(\"Mean accuracy on the test data and labels: \", score)"
   ]
  },
  {
   "cell_type": "code",
   "execution_count": 51,
   "metadata": {},
   "outputs": [
    {
     "name": "stdout",
     "output_type": "stream",
     "text": [
      "LR\n",
      "[[39 20]\n",
      " [28 28]]\n"
     ]
    },
    {
     "ename": "AttributeError",
     "evalue": "module 'matplotlib' has no attribute 'show'",
     "output_type": "error",
     "traceback": [
      "\u001b[1;31m---------------------------------------------------------------------------\u001b[0m",
      "\u001b[1;31mAttributeError\u001b[0m                            Traceback (most recent call last)",
      "\u001b[1;32m<ipython-input-51-6c075f8f759d>\u001b[0m in \u001b[0;36m<module>\u001b[1;34m\u001b[0m\n\u001b[0;32m     11\u001b[0m     \u001b[0mprint\u001b[0m\u001b[1;33m(\u001b[0m\u001b[0mtitle\u001b[0m\u001b[1;33m)\u001b[0m\u001b[1;33m\u001b[0m\u001b[1;33m\u001b[0m\u001b[0m\n\u001b[0;32m     12\u001b[0m     \u001b[0mprint\u001b[0m\u001b[1;33m(\u001b[0m\u001b[0mdisp\u001b[0m\u001b[1;33m.\u001b[0m\u001b[0mconfusion_matrix\u001b[0m\u001b[1;33m)\u001b[0m\u001b[1;33m\u001b[0m\u001b[1;33m\u001b[0m\u001b[0m\n\u001b[1;32m---> 13\u001b[1;33m     \u001b[0mplt\u001b[0m\u001b[1;33m.\u001b[0m\u001b[0mshow\u001b[0m\u001b[1;33m(\u001b[0m\u001b[1;33m)\u001b[0m\u001b[1;33m\u001b[0m\u001b[1;33m\u001b[0m\u001b[0m\n\u001b[0m",
      "\u001b[1;31mAttributeError\u001b[0m: module 'matplotlib' has no attribute 'show'"
     ]
    },
    {
     "data": {
      "image/png": "[encoded data removed]",
      "text/plain": [
       "<Figure size 432x288 with 2 Axes>"
      ]
     },
     "metadata": {
      "needs_background": "light"
     },
     "output_type": "display_data"
    }
   ],
   "source": [
    "# Plot non-normalized confusion matrix\n",
    "titles_options = [(\"LR\", None),\n",
    "                  (\"Normalized confusion matrix\", 'true')]\n",
    "for title, normalize in titles_options:\n",
    "    disp = plot_confusion_matrix(LR_model, X_test, y_test,\n",
    "                                 display_labels=['ASC','NONASC'],\n",
    "                                 cmap=plt.cm.Blues,\n",
    "                                 normalize=normalize)\n",
    "    disp.ax_.set_title(title)\n",
    "\n",
    "    print(title)\n",
    "    print(disp.confusion_matrix)\n",
    "    plt.show()"
   ]
  },
  {
   "cell_type": "markdown",
   "metadata": {},
   "source": [
    "## Random Forest"
   ]
  },
  {
   "cell_type": "code",
   "execution_count": 7,
   "metadata": {},
   "outputs": [
    {
     "name": "stdout",
     "output_type": "stream",
     "text": [
      "Score for each run of the cross validation:  [0.52173913 0.52173913 0.69565217 0.65217391 0.60869565]\n",
      ">> Accuracy: 0.60 (+/- 0.14)\n",
      "Mean accuracy on the test data and labels:  0.5826086956521739\n"
     ]
    }
   ],
   "source": [
    "from sklearn.ensemble import RandomForestClassifier\n",
    "clf=RandomForestClassifier(n_estimators=100)\n",
    "clf.fit(X_train,y_train)\n",
    "\n",
    "scores = cross_val_score(clf, X_train, y_train, cv=5)\n",
    "print(\"Score for each run of the cross validation: \", scores)\n",
    "\n",
    "# The mean score and the 95% confidence interval of the score estimate are hence given by:\n",
    "print(\">> Accuracy: %0.2f (+/- %0.2f)\" % (scores.mean(), scores.std() * 2))\n",
    "score = clf.score(X_test, y_test)\n",
    "print(\"Mean accuracy on the test data and labels: \", score)"
   ]
  },
  {
   "cell_type": "code",
   "execution_count": 9,
   "metadata": {},
   "outputs": [
    {
     "name": "stdout",
     "output_type": "stream",
     "text": [
      "RF\n",
      "[[37 22]\n",
      " [26 30]]\n"
     ]
    },
    {
     "ename": "AttributeError",
     "evalue": "module 'matplotlib' has no attribute 'show'",
     "output_type": "error",
     "traceback": [
      "\u001b[1;31m---------------------------------------------------------------------------\u001b[0m",
      "\u001b[1;31mAttributeError\u001b[0m                            Traceback (most recent call last)",
      "\u001b[1;32m<ipython-input-9-331cbc2d5f4f>\u001b[0m in \u001b[0;36m<module>\u001b[1;34m\u001b[0m\n\u001b[0;32m     11\u001b[0m     \u001b[0mprint\u001b[0m\u001b[1;33m(\u001b[0m\u001b[0mtitle\u001b[0m\u001b[1;33m)\u001b[0m\u001b[1;33m\u001b[0m\u001b[1;33m\u001b[0m\u001b[0m\n\u001b[0;32m     12\u001b[0m     \u001b[0mprint\u001b[0m\u001b[1;33m(\u001b[0m\u001b[0mdisp\u001b[0m\u001b[1;33m.\u001b[0m\u001b[0mconfusion_matrix\u001b[0m\u001b[1;33m)\u001b[0m\u001b[1;33m\u001b[0m\u001b[1;33m\u001b[0m\u001b[0m\n\u001b[1;32m---> 13\u001b[1;33m     \u001b[0mplt\u001b[0m\u001b[1;33m.\u001b[0m\u001b[0mshow\u001b[0m\u001b[1;33m(\u001b[0m\u001b[1;33m)\u001b[0m\u001b[1;33m\u001b[0m\u001b[1;33m\u001b[0m\u001b[0m\n\u001b[0m",
      "\u001b[1;31mAttributeError\u001b[0m: module 'matplotlib' has no attribute 'show'"
     ]
    },
    {
     "data": {
      "image/png": "[encoded data removed]",
      "text/plain": [
       "<Figure size 432x288 with 2 Axes>"
      ]
     },
     "metadata": {
      "needs_background": "light"
     },
     "output_type": "display_data"
    }
   ],
   "source": [
    "# Plot non-normalized confusion matrix\n",
    "titles_options = [(\"RF\", None),\n",
    "                  (\"Normalized confusion matrix\", 'true')]\n",
    "for title, normalize in titles_options:\n",
    "    disp = plot_confusion_matrix(clf, X_test, y_test,\n",
    "                                 display_labels=['ASC','NONASC'],\n",
    "                                 cmap=plt.cm.Blues,\n",
    "                                 normalize=normalize)\n",
    "    disp.ax_.set_title(title)\n",
    "\n",
    "    print(title)\n",
    "    print(disp.confusion_matrix)\n",
    "    plt.show()"
   ]
  },
  {
   "cell_type": "code",
   "execution_count": null,
   "metadata": {},
   "outputs": [],
   "source": []
  }
 ],
 "metadata": {
  "kernelspec": {
   "display_name": "Python 3",
   "language": "python",
   "name": "python3"
  },
  "language_info": {
   "codemirror_mode": {
    "name": "ipython",
    "version": 3
   },
   "file_extension": ".py",
   "mimetype": "text/x-python",
   "name": "python",
   "nbconvert_exporter": "python",
   "pygments_lexer": "ipython3",
   "version": "3.7.4"
  }
 },
 "nbformat": 4,
 "nbformat_minor": 2
}
